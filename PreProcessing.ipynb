{
  "nbformat": 4,
  "nbformat_minor": 0,
  "metadata": {
    "colab": {
      "name": "PreProcessing.ipynb",
      "provenance": [],
      "collapsed_sections": []
    },
    "kernelspec": {
      "name": "python3",
      "display_name": "Python 3"
    }
  },
  "cells": [
    {
      "cell_type": "markdown",
      "metadata": {
        "id": "KDEujB0bjP1k"
      },
      "source": [
        "# Preprocessing of data and preparation of our GloVe vectorized datasets.\n"
      ]
    },
    {
      "cell_type": "markdown",
      "metadata": {
        "id": "lcpDZK6njYN9"
      },
      "source": [
        "## Import useful libraries."
      ]
    },
    {
      "cell_type": "code",
      "metadata": {
        "id": "tZbypE894o-C",
        "colab": {
          "base_uri": "https://localhost:8080/"
        },
        "outputId": "afe18a0b-14a1-4d1d-c369-ce20342fd1f2"
      },
      "source": [
        "import pandas as pd\n",
        "import numpy as np\n",
        "import matplotlib.pyplot as plt \n",
        "import string\n",
        "import re\n",
        "import nltk\n",
        "import pickle\n",
        "\n",
        "from gensim.utils import simple_preprocess\n",
        "from gensim import corpora\n",
        "\n",
        "from sklearn.model_selection import train_test_split\n",
        "from sklearn.linear_model import LogisticRegression \n",
        "from sklearn.feature_extraction.text import TfidfVectorizer,CountVectorizer\n",
        "from sklearn.metrics import recall_score,f1_score,precision_score,classification_report,roc_curve,auc\n",
        "from sklearn.model_selection import cross_val_score\n",
        "\n",
        "import torch\n",
        "import torch.nn as nn\n",
        "import torch.nn.functional as F\n",
        "import torch.optim as optim\n",
        "\n",
        "from google.colab import drive\n",
        "drive.mount('/content/drive/')\n",
        "nltk.download('wordnet')"
      ],
      "execution_count": null,
      "outputs": [
        {
          "output_type": "stream",
          "text": [
            "Mounted at /content/drive/\n",
            "[nltk_data] Downloading package wordnet to /root/nltk_data...\n",
            "[nltk_data]   Unzipping corpora/wordnet.zip.\n"
          ],
          "name": "stdout"
        },
        {
          "output_type": "execute_result",
          "data": {
            "text/plain": [
              "True"
            ]
          },
          "metadata": {
            "tags": []
          },
          "execution_count": 1
        }
      ]
    },
    {
      "cell_type": "markdown",
      "metadata": {
        "id": "IaPejdFWjeT2"
      },
      "source": [
        "## Retrieve and clean our dataset."
      ]
    },
    {
      "cell_type": "markdown",
      "metadata": {
        "id": "OhncMnd5jnGz"
      },
      "source": [
        "### Retrieve and display our dataset!"
      ]
    },
    {
      "cell_type": "code",
      "metadata": {
        "id": "dd42iUya4M4g",
        "colab": {
          "base_uri": "https://localhost:8080/",
          "height": 821
        },
        "outputId": "ed456baf-b40c-4cd6-d891-f6be5a256e3d"
      },
      "source": [
        "data = pd.read_csv(r'/content/drive/My Drive/AI(II)/datasets/SentimentTweets.csv',nrows=500000)\n",
        "\n",
        "X = pd.DataFrame(data['text'],columns=['text'])\n",
        "Y = pd.DataFrame(data['target'],columns=['target'])\n",
        "\n",
        "display(X,Y)"
      ],
      "execution_count": null,
      "outputs": [
        {
          "output_type": "display_data",
          "data": {
            "text/html": [
              "<div>\n",
              "<style scoped>\n",
              "    .dataframe tbody tr th:only-of-type {\n",
              "        vertical-align: middle;\n",
              "    }\n",
              "\n",
              "    .dataframe tbody tr th {\n",
              "        vertical-align: top;\n",
              "    }\n",
              "\n",
              "    .dataframe thead th {\n",
              "        text-align: right;\n",
              "    }\n",
              "</style>\n",
              "<table border=\"1\" class=\"dataframe\">\n",
              "  <thead>\n",
              "    <tr style=\"text-align: right;\">\n",
              "      <th></th>\n",
              "      <th>text</th>\n",
              "    </tr>\n",
              "  </thead>\n",
              "  <tbody>\n",
              "    <tr>\n",
              "      <th>0</th>\n",
              "      <td>#brokenpromises...</td>\n",
              "    </tr>\n",
              "    <tr>\n",
              "      <th>1</th>\n",
              "      <td>David Carradine  so sad. Thai's law not sure i...</td>\n",
              "    </tr>\n",
              "    <tr>\n",
              "      <th>2</th>\n",
              "      <td>A @ 415 B @ 425. Tell your bro i say congrats!</td>\n",
              "    </tr>\n",
              "    <tr>\n",
              "      <th>3</th>\n",
              "      <td>@littlefluffycat  Indeed.</td>\n",
              "    </tr>\n",
              "    <tr>\n",
              "      <th>4</th>\n",
              "      <td>Completed Race 4 Life in 58mins with girlies f...</td>\n",
              "    </tr>\n",
              "    <tr>\n",
              "      <th>...</th>\n",
              "      <td>...</td>\n",
              "    </tr>\n",
              "    <tr>\n",
              "      <th>499995</th>\n",
              "      <td>@SkyNews they've finally managed to kill F1!</td>\n",
              "    </tr>\n",
              "    <tr>\n",
              "      <th>499996</th>\n",
              "      <td>@elvensapphire I'm brazilian so brazilian are ...</td>\n",
              "    </tr>\n",
              "    <tr>\n",
              "      <th>499997</th>\n",
              "      <td>@ScherziNicole Aww thats so sweet! I joined a ...</td>\n",
              "    </tr>\n",
              "    <tr>\n",
              "      <th>499998</th>\n",
              "      <td>Woke up kinda depressed and sad</td>\n",
              "    </tr>\n",
              "    <tr>\n",
              "      <th>499999</th>\n",
              "      <td>Wish I had something to play my dad's old Clas...</td>\n",
              "    </tr>\n",
              "  </tbody>\n",
              "</table>\n",
              "<p>500000 rows × 1 columns</p>\n",
              "</div>"
            ],
            "text/plain": [
              "                                                     text\n",
              "0                                     #brokenpromises... \n",
              "1       David Carradine  so sad. Thai's law not sure i...\n",
              "2         A @ 415 B @ 425. Tell your bro i say congrats! \n",
              "3                               @littlefluffycat  Indeed.\n",
              "4       Completed Race 4 Life in 58mins with girlies f...\n",
              "...                                                   ...\n",
              "499995      @SkyNews they've finally managed to kill F1! \n",
              "499996  @elvensapphire I'm brazilian so brazilian are ...\n",
              "499997  @ScherziNicole Aww thats so sweet! I joined a ...\n",
              "499998                   Woke up kinda depressed and sad \n",
              "499999  Wish I had something to play my dad's old Clas...\n",
              "\n",
              "[500000 rows x 1 columns]"
            ]
          },
          "metadata": {
            "tags": []
          }
        },
        {
          "output_type": "display_data",
          "data": {
            "text/html": [
              "<div>\n",
              "<style scoped>\n",
              "    .dataframe tbody tr th:only-of-type {\n",
              "        vertical-align: middle;\n",
              "    }\n",
              "\n",
              "    .dataframe tbody tr th {\n",
              "        vertical-align: top;\n",
              "    }\n",
              "\n",
              "    .dataframe thead th {\n",
              "        text-align: right;\n",
              "    }\n",
              "</style>\n",
              "<table border=\"1\" class=\"dataframe\">\n",
              "  <thead>\n",
              "    <tr style=\"text-align: right;\">\n",
              "      <th></th>\n",
              "      <th>target</th>\n",
              "    </tr>\n",
              "  </thead>\n",
              "  <tbody>\n",
              "    <tr>\n",
              "      <th>0</th>\n",
              "      <td>0</td>\n",
              "    </tr>\n",
              "    <tr>\n",
              "      <th>1</th>\n",
              "      <td>0</td>\n",
              "    </tr>\n",
              "    <tr>\n",
              "      <th>2</th>\n",
              "      <td>4</td>\n",
              "    </tr>\n",
              "    <tr>\n",
              "      <th>3</th>\n",
              "      <td>4</td>\n",
              "    </tr>\n",
              "    <tr>\n",
              "      <th>4</th>\n",
              "      <td>4</td>\n",
              "    </tr>\n",
              "    <tr>\n",
              "      <th>...</th>\n",
              "      <td>...</td>\n",
              "    </tr>\n",
              "    <tr>\n",
              "      <th>499995</th>\n",
              "      <td>0</td>\n",
              "    </tr>\n",
              "    <tr>\n",
              "      <th>499996</th>\n",
              "      <td>0</td>\n",
              "    </tr>\n",
              "    <tr>\n",
              "      <th>499997</th>\n",
              "      <td>4</td>\n",
              "    </tr>\n",
              "    <tr>\n",
              "      <th>499998</th>\n",
              "      <td>0</td>\n",
              "    </tr>\n",
              "    <tr>\n",
              "      <th>499999</th>\n",
              "      <td>0</td>\n",
              "    </tr>\n",
              "  </tbody>\n",
              "</table>\n",
              "<p>500000 rows × 1 columns</p>\n",
              "</div>"
            ],
            "text/plain": [
              "        target\n",
              "0            0\n",
              "1            0\n",
              "2            4\n",
              "3            4\n",
              "4            4\n",
              "...        ...\n",
              "499995       0\n",
              "499996       0\n",
              "499997       4\n",
              "499998       0\n",
              "499999       0\n",
              "\n",
              "[500000 rows x 1 columns]"
            ]
          },
          "metadata": {
            "tags": []
          }
        }
      ]
    },
    {
      "cell_type": "markdown",
      "metadata": {
        "id": "Lf_WkEwglFmk"
      },
      "source": [
        "### Convert to lowercase."
      ]
    },
    {
      "cell_type": "code",
      "metadata": {
        "id": "DevHcQ92lJFK",
        "colab": {
          "base_uri": "https://localhost:8080/",
          "height": 419
        },
        "outputId": "8bac2d76-84f0-4e50-9783-f764682f7e17"
      },
      "source": [
        "X['text'] = X['text'].str.lower()\n",
        "display(X)"
      ],
      "execution_count": null,
      "outputs": [
        {
          "output_type": "display_data",
          "data": {
            "text/html": [
              "<div>\n",
              "<style scoped>\n",
              "    .dataframe tbody tr th:only-of-type {\n",
              "        vertical-align: middle;\n",
              "    }\n",
              "\n",
              "    .dataframe tbody tr th {\n",
              "        vertical-align: top;\n",
              "    }\n",
              "\n",
              "    .dataframe thead th {\n",
              "        text-align: right;\n",
              "    }\n",
              "</style>\n",
              "<table border=\"1\" class=\"dataframe\">\n",
              "  <thead>\n",
              "    <tr style=\"text-align: right;\">\n",
              "      <th></th>\n",
              "      <th>text</th>\n",
              "    </tr>\n",
              "  </thead>\n",
              "  <tbody>\n",
              "    <tr>\n",
              "      <th>0</th>\n",
              "      <td>#brokenpromises...</td>\n",
              "    </tr>\n",
              "    <tr>\n",
              "      <th>1</th>\n",
              "      <td>david carradine  so sad. thai's law not sure i...</td>\n",
              "    </tr>\n",
              "    <tr>\n",
              "      <th>2</th>\n",
              "      <td>a @ 415 b @ 425. tell your bro i say congrats!</td>\n",
              "    </tr>\n",
              "    <tr>\n",
              "      <th>3</th>\n",
              "      <td>@littlefluffycat  indeed.</td>\n",
              "    </tr>\n",
              "    <tr>\n",
              "      <th>4</th>\n",
              "      <td>completed race 4 life in 58mins with girlies f...</td>\n",
              "    </tr>\n",
              "    <tr>\n",
              "      <th>...</th>\n",
              "      <td>...</td>\n",
              "    </tr>\n",
              "    <tr>\n",
              "      <th>499995</th>\n",
              "      <td>@skynews they've finally managed to kill f1!</td>\n",
              "    </tr>\n",
              "    <tr>\n",
              "      <th>499996</th>\n",
              "      <td>@elvensapphire i'm brazilian so brazilian are ...</td>\n",
              "    </tr>\n",
              "    <tr>\n",
              "      <th>499997</th>\n",
              "      <td>@scherzinicole aww thats so sweet! i joined a ...</td>\n",
              "    </tr>\n",
              "    <tr>\n",
              "      <th>499998</th>\n",
              "      <td>woke up kinda depressed and sad</td>\n",
              "    </tr>\n",
              "    <tr>\n",
              "      <th>499999</th>\n",
              "      <td>wish i had something to play my dad's old clas...</td>\n",
              "    </tr>\n",
              "  </tbody>\n",
              "</table>\n",
              "<p>500000 rows × 1 columns</p>\n",
              "</div>"
            ],
            "text/plain": [
              "                                                     text\n",
              "0                                     #brokenpromises... \n",
              "1       david carradine  so sad. thai's law not sure i...\n",
              "2         a @ 415 b @ 425. tell your bro i say congrats! \n",
              "3                               @littlefluffycat  indeed.\n",
              "4       completed race 4 life in 58mins with girlies f...\n",
              "...                                                   ...\n",
              "499995      @skynews they've finally managed to kill f1! \n",
              "499996  @elvensapphire i'm brazilian so brazilian are ...\n",
              "499997  @scherzinicole aww thats so sweet! i joined a ...\n",
              "499998                   woke up kinda depressed and sad \n",
              "499999  wish i had something to play my dad's old clas...\n",
              "\n",
              "[500000 rows x 1 columns]"
            ]
          },
          "metadata": {
            "tags": []
          }
        }
      ]
    },
    {
      "cell_type": "markdown",
      "metadata": {
        "id": "vJMxwqDLmIWm"
      },
      "source": [
        "### Replace where is 4 to 1 (binary form)."
      ]
    },
    {
      "cell_type": "code",
      "metadata": {
        "id": "6WpBOVnNmN2m",
        "colab": {
          "base_uri": "https://localhost:8080/",
          "height": 487
        },
        "outputId": "58561098-3b06-458a-bf75-863629695a79"
      },
      "source": [
        "Y = Y.replace(4,1)\n",
        "display(Y)\n",
        "print(Y.value_counts())"
      ],
      "execution_count": null,
      "outputs": [
        {
          "output_type": "display_data",
          "data": {
            "text/html": [
              "<div>\n",
              "<style scoped>\n",
              "    .dataframe tbody tr th:only-of-type {\n",
              "        vertical-align: middle;\n",
              "    }\n",
              "\n",
              "    .dataframe tbody tr th {\n",
              "        vertical-align: top;\n",
              "    }\n",
              "\n",
              "    .dataframe thead th {\n",
              "        text-align: right;\n",
              "    }\n",
              "</style>\n",
              "<table border=\"1\" class=\"dataframe\">\n",
              "  <thead>\n",
              "    <tr style=\"text-align: right;\">\n",
              "      <th></th>\n",
              "      <th>target</th>\n",
              "    </tr>\n",
              "  </thead>\n",
              "  <tbody>\n",
              "    <tr>\n",
              "      <th>0</th>\n",
              "      <td>0</td>\n",
              "    </tr>\n",
              "    <tr>\n",
              "      <th>1</th>\n",
              "      <td>0</td>\n",
              "    </tr>\n",
              "    <tr>\n",
              "      <th>2</th>\n",
              "      <td>1</td>\n",
              "    </tr>\n",
              "    <tr>\n",
              "      <th>3</th>\n",
              "      <td>1</td>\n",
              "    </tr>\n",
              "    <tr>\n",
              "      <th>4</th>\n",
              "      <td>1</td>\n",
              "    </tr>\n",
              "    <tr>\n",
              "      <th>...</th>\n",
              "      <td>...</td>\n",
              "    </tr>\n",
              "    <tr>\n",
              "      <th>499995</th>\n",
              "      <td>0</td>\n",
              "    </tr>\n",
              "    <tr>\n",
              "      <th>499996</th>\n",
              "      <td>0</td>\n",
              "    </tr>\n",
              "    <tr>\n",
              "      <th>499997</th>\n",
              "      <td>1</td>\n",
              "    </tr>\n",
              "    <tr>\n",
              "      <th>499998</th>\n",
              "      <td>0</td>\n",
              "    </tr>\n",
              "    <tr>\n",
              "      <th>499999</th>\n",
              "      <td>0</td>\n",
              "    </tr>\n",
              "  </tbody>\n",
              "</table>\n",
              "<p>500000 rows × 1 columns</p>\n",
              "</div>"
            ],
            "text/plain": [
              "        target\n",
              "0            0\n",
              "1            0\n",
              "2            1\n",
              "3            1\n",
              "4            1\n",
              "...        ...\n",
              "499995       0\n",
              "499996       0\n",
              "499997       1\n",
              "499998       0\n",
              "499999       0\n",
              "\n",
              "[500000 rows x 1 columns]"
            ]
          },
          "metadata": {
            "tags": []
          }
        },
        {
          "output_type": "stream",
          "text": [
            "target\n",
            "1         250800\n",
            "0         249200\n",
            "dtype: int64\n"
          ],
          "name": "stdout"
        }
      ]
    },
    {
      "cell_type": "markdown",
      "metadata": {
        "id": "B8xlkDaNmXhI"
      },
      "source": [
        "### Removal of special characters and punctuation."
      ]
    },
    {
      "cell_type": "code",
      "metadata": {
        "id": "yk04tMzHmfEB",
        "colab": {
          "base_uri": "https://localhost:8080/",
          "height": 419
        },
        "outputId": "3ba5185a-1bf9-4cae-b29b-5b88b2251faa"
      },
      "source": [
        "def remove_special_characters(text, remove_digits=True):\n",
        "  pattern = r'[^a-zA-z0-9\\s]'\n",
        "  text = re.sub(pattern,'',text)\n",
        "  return text\n",
        "\n",
        "X['text'] = X['text'].apply(lambda x:''.join([i for i in x if i not in string.punctuation]))\n",
        "\n",
        "X['text'] = X['text'].apply(remove_special_characters)\n",
        "\n",
        "display(X)"
      ],
      "execution_count": null,
      "outputs": [
        {
          "output_type": "display_data",
          "data": {
            "text/html": [
              "<div>\n",
              "<style scoped>\n",
              "    .dataframe tbody tr th:only-of-type {\n",
              "        vertical-align: middle;\n",
              "    }\n",
              "\n",
              "    .dataframe tbody tr th {\n",
              "        vertical-align: top;\n",
              "    }\n",
              "\n",
              "    .dataframe thead th {\n",
              "        text-align: right;\n",
              "    }\n",
              "</style>\n",
              "<table border=\"1\" class=\"dataframe\">\n",
              "  <thead>\n",
              "    <tr style=\"text-align: right;\">\n",
              "      <th></th>\n",
              "      <th>text</th>\n",
              "    </tr>\n",
              "  </thead>\n",
              "  <tbody>\n",
              "    <tr>\n",
              "      <th>0</th>\n",
              "      <td>brokenpromises</td>\n",
              "    </tr>\n",
              "    <tr>\n",
              "      <th>1</th>\n",
              "      <td>david carradine  so sad thais law not sure if ...</td>\n",
              "    </tr>\n",
              "    <tr>\n",
              "      <th>2</th>\n",
              "      <td>a  415 b  425 tell your bro i say congrats</td>\n",
              "    </tr>\n",
              "    <tr>\n",
              "      <th>3</th>\n",
              "      <td>littlefluffycat  indeed</td>\n",
              "    </tr>\n",
              "    <tr>\n",
              "      <th>4</th>\n",
              "      <td>completed race 4 life in 58mins with girlies f...</td>\n",
              "    </tr>\n",
              "    <tr>\n",
              "      <th>...</th>\n",
              "      <td>...</td>\n",
              "    </tr>\n",
              "    <tr>\n",
              "      <th>499995</th>\n",
              "      <td>skynews theyve finally managed to kill f1</td>\n",
              "    </tr>\n",
              "    <tr>\n",
              "      <th>499996</th>\n",
              "      <td>elvensapphire im brazilian so brazilian are an...</td>\n",
              "    </tr>\n",
              "    <tr>\n",
              "      <th>499997</th>\n",
              "      <td>scherzinicole aww thats so sweet i joined a wh...</td>\n",
              "    </tr>\n",
              "    <tr>\n",
              "      <th>499998</th>\n",
              "      <td>woke up kinda depressed and sad</td>\n",
              "    </tr>\n",
              "    <tr>\n",
              "      <th>499999</th>\n",
              "      <td>wish i had something to play my dads old clash...</td>\n",
              "    </tr>\n",
              "  </tbody>\n",
              "</table>\n",
              "<p>500000 rows × 1 columns</p>\n",
              "</div>"
            ],
            "text/plain": [
              "                                                     text\n",
              "0                                         brokenpromises \n",
              "1       david carradine  so sad thais law not sure if ...\n",
              "2             a  415 b  425 tell your bro i say congrats \n",
              "3                                 littlefluffycat  indeed\n",
              "4       completed race 4 life in 58mins with girlies f...\n",
              "...                                                   ...\n",
              "499995         skynews theyve finally managed to kill f1 \n",
              "499996  elvensapphire im brazilian so brazilian are an...\n",
              "499997  scherzinicole aww thats so sweet i joined a wh...\n",
              "499998                   woke up kinda depressed and sad \n",
              "499999  wish i had something to play my dads old clash...\n",
              "\n",
              "[500000 rows x 1 columns]"
            ]
          },
          "metadata": {
            "tags": []
          }
        }
      ]
    },
    {
      "cell_type": "markdown",
      "metadata": {
        "id": "D8BPm_KMgF8o"
      },
      "source": [
        "### Tokenization."
      ]
    },
    {
      "cell_type": "code",
      "metadata": {
        "id": "Wbx5i_tOgIxm",
        "colab": {
          "base_uri": "https://localhost:8080/",
          "height": 419
        },
        "outputId": "43db0102-cdeb-47a0-fe3c-5018cf1450ef"
      },
      "source": [
        "X['text'] = [simple_preprocess(line, deacc=True) for line in X['text']] \n",
        "\n",
        "display(X)"
      ],
      "execution_count": null,
      "outputs": [
        {
          "output_type": "display_data",
          "data": {
            "text/html": [
              "<div>\n",
              "<style scoped>\n",
              "    .dataframe tbody tr th:only-of-type {\n",
              "        vertical-align: middle;\n",
              "    }\n",
              "\n",
              "    .dataframe tbody tr th {\n",
              "        vertical-align: top;\n",
              "    }\n",
              "\n",
              "    .dataframe thead th {\n",
              "        text-align: right;\n",
              "    }\n",
              "</style>\n",
              "<table border=\"1\" class=\"dataframe\">\n",
              "  <thead>\n",
              "    <tr style=\"text-align: right;\">\n",
              "      <th></th>\n",
              "      <th>text</th>\n",
              "    </tr>\n",
              "  </thead>\n",
              "  <tbody>\n",
              "    <tr>\n",
              "      <th>0</th>\n",
              "      <td>[brokenpromises]</td>\n",
              "    </tr>\n",
              "    <tr>\n",
              "      <th>1</th>\n",
              "      <td>[david, carradine, so, sad, thais, law, not, s...</td>\n",
              "    </tr>\n",
              "    <tr>\n",
              "      <th>2</th>\n",
              "      <td>[tell, your, bro, say, congrats]</td>\n",
              "    </tr>\n",
              "    <tr>\n",
              "      <th>3</th>\n",
              "      <td>[littlefluffycat, indeed]</td>\n",
              "    </tr>\n",
              "    <tr>\n",
              "      <th>4</th>\n",
              "      <td>[completed, race, life, in, mins, with, girlie...</td>\n",
              "    </tr>\n",
              "    <tr>\n",
              "      <th>...</th>\n",
              "      <td>...</td>\n",
              "    </tr>\n",
              "    <tr>\n",
              "      <th>499995</th>\n",
              "      <td>[skynews, theyve, finally, managed, to, kill]</td>\n",
              "    </tr>\n",
              "    <tr>\n",
              "      <th>499996</th>\n",
              "      <td>[elvensapphire, im, brazilian, so, brazilian, ...</td>\n",
              "    </tr>\n",
              "    <tr>\n",
              "      <th>499997</th>\n",
              "      <td>[scherzinicole, aww, thats, so, sweet, joined,...</td>\n",
              "    </tr>\n",
              "    <tr>\n",
              "      <th>499998</th>\n",
              "      <td>[woke, up, kinda, depressed, and, sad]</td>\n",
              "    </tr>\n",
              "    <tr>\n",
              "      <th>499999</th>\n",
              "      <td>[wish, had, something, to, play, my, dads, old...</td>\n",
              "    </tr>\n",
              "  </tbody>\n",
              "</table>\n",
              "<p>500000 rows × 1 columns</p>\n",
              "</div>"
            ],
            "text/plain": [
              "                                                     text\n",
              "0                                        [brokenpromises]\n",
              "1       [david, carradine, so, sad, thais, law, not, s...\n",
              "2                        [tell, your, bro, say, congrats]\n",
              "3                               [littlefluffycat, indeed]\n",
              "4       [completed, race, life, in, mins, with, girlie...\n",
              "...                                                   ...\n",
              "499995      [skynews, theyve, finally, managed, to, kill]\n",
              "499996  [elvensapphire, im, brazilian, so, brazilian, ...\n",
              "499997  [scherzinicole, aww, thats, so, sweet, joined,...\n",
              "499998             [woke, up, kinda, depressed, and, sad]\n",
              "499999  [wish, had, something, to, play, my, dads, old...\n",
              "\n",
              "[500000 rows x 1 columns]"
            ]
          },
          "metadata": {
            "tags": []
          }
        }
      ]
    },
    {
      "cell_type": "markdown",
      "metadata": {
        "id": "dpUh2I9Dp6pR"
      },
      "source": [
        "### Lemmatization."
      ]
    },
    {
      "cell_type": "code",
      "metadata": {
        "id": "dEOu5PyBqHXa",
        "colab": {
          "base_uri": "https://localhost:8080/",
          "height": 419
        },
        "outputId": "33d06b90-b454-4b77-cb0e-77b20bb56835"
      },
      "source": [
        "lemmatizer = nltk.stem.WordNetLemmatizer()\n",
        "\n",
        "def lemmatize_text(text):\n",
        "    return \" \".join([lemmatizer.lemmatize(w, pos=\"v\") for w in text])\n",
        "\n",
        "X['text'] = X['text'].apply(lemmatize_text).copy()\n",
        "\n",
        "display(X)"
      ],
      "execution_count": null,
      "outputs": [
        {
          "output_type": "display_data",
          "data": {
            "text/html": [
              "<div>\n",
              "<style scoped>\n",
              "    .dataframe tbody tr th:only-of-type {\n",
              "        vertical-align: middle;\n",
              "    }\n",
              "\n",
              "    .dataframe tbody tr th {\n",
              "        vertical-align: top;\n",
              "    }\n",
              "\n",
              "    .dataframe thead th {\n",
              "        text-align: right;\n",
              "    }\n",
              "</style>\n",
              "<table border=\"1\" class=\"dataframe\">\n",
              "  <thead>\n",
              "    <tr style=\"text-align: right;\">\n",
              "      <th></th>\n",
              "      <th>text</th>\n",
              "    </tr>\n",
              "  </thead>\n",
              "  <tbody>\n",
              "    <tr>\n",
              "      <th>0</th>\n",
              "      <td>brokenpromises</td>\n",
              "    </tr>\n",
              "    <tr>\n",
              "      <th>1</th>\n",
              "      <td>david carradine so sad thais law not sure if i...</td>\n",
              "    </tr>\n",
              "    <tr>\n",
              "      <th>2</th>\n",
              "      <td>tell your bro say congrats</td>\n",
              "    </tr>\n",
              "    <tr>\n",
              "      <th>3</th>\n",
              "      <td>littlefluffycat indeed</td>\n",
              "    </tr>\n",
              "    <tr>\n",
              "      <th>4</th>\n",
              "      <td>complete race life in mins with girlies from w...</td>\n",
              "    </tr>\n",
              "    <tr>\n",
              "      <th>...</th>\n",
              "      <td>...</td>\n",
              "    </tr>\n",
              "    <tr>\n",
              "      <th>499995</th>\n",
              "      <td>skynews theyve finally manage to kill</td>\n",
              "    </tr>\n",
              "    <tr>\n",
              "      <th>499996</th>\n",
              "      <td>elvensapphire im brazilian so brazilian be any...</td>\n",
              "    </tr>\n",
              "    <tr>\n",
              "      <th>499997</th>\n",
              "      <td>scherzinicole aww thats so sweet join while ag...</td>\n",
              "    </tr>\n",
              "    <tr>\n",
              "      <th>499998</th>\n",
              "      <td>wake up kinda depress and sad</td>\n",
              "    </tr>\n",
              "    <tr>\n",
              "      <th>499999</th>\n",
              "      <td>wish have something to play my dads old clash ...</td>\n",
              "    </tr>\n",
              "  </tbody>\n",
              "</table>\n",
              "<p>500000 rows × 1 columns</p>\n",
              "</div>"
            ],
            "text/plain": [
              "                                                     text\n",
              "0                                          brokenpromises\n",
              "1       david carradine so sad thais law not sure if i...\n",
              "2                              tell your bro say congrats\n",
              "3                                  littlefluffycat indeed\n",
              "4       complete race life in mins with girlies from w...\n",
              "...                                                   ...\n",
              "499995              skynews theyve finally manage to kill\n",
              "499996  elvensapphire im brazilian so brazilian be any...\n",
              "499997  scherzinicole aww thats so sweet join while ag...\n",
              "499998                      wake up kinda depress and sad\n",
              "499999  wish have something to play my dads old clash ...\n",
              "\n",
              "[500000 rows x 1 columns]"
            ]
          },
          "metadata": {
            "tags": []
          }
        }
      ]
    },
    {
      "cell_type": "markdown",
      "metadata": {
        "id": "cqhlchE5YYd3"
      },
      "source": [
        "### Split dataset to train,validation and test dataset.\n"
      ]
    },
    {
      "cell_type": "code",
      "metadata": {
        "id": "niug5R0UYbgX",
        "colab": {
          "base_uri": "https://localhost:8080/"
        },
        "outputId": "957bea15-08cd-4ba9-ba2f-16c3be1e2c82"
      },
      "source": [
        "# Split dataset to train and test set.\n",
        "X_train, X_test, Y_train, Y_test = train_test_split(X,Y,test_size=0.005,random_state=42)\n",
        "\n",
        "# Split train dataset to train and validation set.\n",
        "X_train, X_val, Y_train, Y_val = train_test_split(X_train, Y_train, test_size=0.005,random_state=42)\n",
        "\n",
        "print(\"X_train's shape:\", X_train.shape)\n",
        "print(\"Y_train's shape:\", Y_train.shape)\n",
        "print(\"X_val's shape:\", X_val.shape)\n",
        "print(\"Y_val's shape:\", Y_val.shape)\n",
        "print(\"X_test's shape:\", X_test.shape)\n",
        "print(\"Y_test's shape:\", Y_test.shape)"
      ],
      "execution_count": null,
      "outputs": [
        {
          "output_type": "stream",
          "text": [
            "X_train's shape: (495012, 1)\n",
            "Y_train's shape: (495012, 1)\n",
            "X_val's shape: (2488, 1)\n",
            "Y_val's shape: (2488, 1)\n",
            "X_test's shape: (2500, 1)\n",
            "Y_test's shape: (2500, 1)\n"
          ],
          "name": "stdout"
        }
      ]
    },
    {
      "cell_type": "markdown",
      "metadata": {
        "id": "Vf4TdSbiHs8u"
      },
      "source": [
        ">We choosed to split dataset 99%-1% (train and test set), cause our dataset is too large. \n"
      ]
    },
    {
      "cell_type": "markdown",
      "metadata": {
        "id": "JJNXVPUFVyc0"
      },
      "source": [
        "## Save Train, Val, Test sets."
      ]
    },
    {
      "cell_type": "code",
      "metadata": {
        "id": "6y2g-q0WVxsy"
      },
      "source": [
        "# Save glove_X_train\n",
        "x_train_file = open('/content/drive/My Drive/AI(II)/prepared_datasets/X_train.pkl', 'wb')\n",
        "pickle.dump(X_train,x_train_file)\n",
        "x_train_file.close()\n",
        "\n",
        "# Save glove_X_val\n",
        "x_val_file = open('/content/drive/My Drive/AI(II)/prepared_datasets/X_val.pkl', 'wb')\n",
        "pickle.dump(X_val,x_val_file)\n",
        "x_val_file.close()\n",
        "\n",
        "# Save glove_X_test\n",
        "x_test_file = open('/content/drive/My Drive/AI(II)/prepared_datasets/X_test.pkl', 'wb')\n",
        "pickle.dump(X_test,x_test_file)\n",
        "x_test_file.close()\n",
        "\n",
        "# Save glove_Y_train\n",
        "y_train_file = open('/content/drive/My Drive/AI(II)/prepared_datasets/Y_train.pkl', 'wb')\n",
        "pickle.dump(Y_train,y_train_file)\n",
        "y_train_file.close()\n",
        "\n",
        "# Save glove_Y_val\n",
        "y_val_file = open('/content/drive/My Drive/AI(II)/prepared_datasets/Y_val.pkl', 'wb')\n",
        "pickle.dump(Y_val,y_val_file)\n",
        "y_val_file.close()\n",
        "\n",
        "# Save glove_Y_train\n",
        "y_test_file = open('/content/drive/My Drive/AI(II)/prepared_datasets/Y_test.pkl', 'wb')\n",
        "pickle.dump(Y_test,y_test_file)\n",
        "y_test_file.close()"
      ],
      "execution_count": null,
      "outputs": []
    }
  ]
}